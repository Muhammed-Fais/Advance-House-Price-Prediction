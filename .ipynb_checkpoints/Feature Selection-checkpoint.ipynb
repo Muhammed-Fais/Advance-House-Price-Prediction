{
 "cells": [
  {
   "cell_type": "markdown",
   "id": "0af900e7",
   "metadata": {},
   "source": [
    "## Feature Selection Advanced House Price Prediction\n",
    "The main aim of this project is to predict the house price based on various features which we will discuss as we go ahead"
   ]
  },
  {
   "cell_type": "code",
   "execution_count": 1,
   "id": "1e2e44a4",
   "metadata": {},
   "outputs": [],
   "source": [
    "import numpy as np\n",
    "import pandas as pd\n",
    "import matplotlib.pyplot as plt\n",
    "%matplotlib inline\n",
    "\n",
    "## for feature slection\n",
    "\n",
    "from sklearn.linear_model import Lasso\n",
    "from sklearn.feature_selection import SelectFromModel"
   ]
  },
  {
   "cell_type": "code",
   "execution_count": null,
   "id": "bbbee299",
   "metadata": {},
   "outputs": [],
   "source": []
  }
 ],
 "metadata": {
  "kernelspec": {
   "display_name": "Python 3 (ipykernel)",
   "language": "python",
   "name": "python3"
  },
  "language_info": {
   "codemirror_mode": {
    "name": "ipython",
    "version": 3
   },
   "file_extension": ".py",
   "mimetype": "text/x-python",
   "name": "python",
   "nbconvert_exporter": "python",
   "pygments_lexer": "ipython3",
   "version": "3.9.13"
  }
 },
 "nbformat": 4,
 "nbformat_minor": 5
}
